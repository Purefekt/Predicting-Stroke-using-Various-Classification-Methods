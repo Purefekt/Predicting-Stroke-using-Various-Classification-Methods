{
 "cells": [
  {
   "cell_type": "markdown",
   "metadata": {},
   "source": [
    "# KNN"
   ]
  },
  {
   "cell_type": "code",
   "execution_count": 8,
   "metadata": {},
   "outputs": [],
   "source": [
    "# import all libraries\n",
    "import pandas as pd\n",
    "import matplotlib.pyplot as plt\n",
    "import seaborn as sns\n",
    "from sklearn.preprocessing import MinMaxScaler\n",
    "from sklearn.neighbors import KNeighborsClassifier\n",
    "from sklearn.metrics import confusion_matrix\n",
    "from sklearn.metrics import classification_report\n",
    "from sklearn.metrics import f1_score\n",
    "from sklearn.model_selection import GridSearchCV"
   ]
  },
  {
   "cell_type": "code",
   "execution_count": 2,
   "metadata": {},
   "outputs": [],
   "source": [
    "# Load the Training and Testing Data\n",
    "x_train = pd.read_pickle('data/x_train.pkl')\n",
    "y_train = pd.read_pickle('data/y_train.pkl')\n",
    "\n",
    "x_test = pd.read_pickle('data/x_test.pkl')\n",
    "y_test = pd.read_pickle('data/y_test.pkl')"
   ]
  },
  {
   "cell_type": "markdown",
   "metadata": {},
   "source": [
    "# Min Max Normalization"
   ]
  },
  {
   "cell_type": "code",
   "execution_count": 3,
   "metadata": {},
   "outputs": [],
   "source": [
    "# Normalize features to [0,1]\n",
    "minmax_scaler = MinMaxScaler()\n",
    "x_train = pd.DataFrame(minmax_scaler.fit_transform(x_train), columns=x_train.columns)\n",
    "x_test = pd.DataFrame(minmax_scaler.fit_transform(x_test), columns=x_test.columns)"
   ]
  },
  {
   "cell_type": "markdown",
   "metadata": {},
   "source": [
    "## Implementing Basic KNN"
   ]
  },
  {
   "cell_type": "code",
   "execution_count": 4,
   "metadata": {},
   "outputs": [],
   "source": [
    "# model\n",
    "k_nearest_neighbours = KNeighborsClassifier()\n",
    "\n",
    "# fit the model\n",
    "k_nearest_neighbours.fit(x_train, y_train)\n",
    "\n",
    "# prediction\n",
    "predictions = k_nearest_neighbours.predict(x_test)"
   ]
  },
  {
   "cell_type": "code",
   "execution_count": 7,
   "metadata": {},
   "outputs": [
    {
     "data": {
      "image/png": "[encoded data removed]",
      "text/plain": [
       "<Figure size 432x288 with 2 Axes>"
      ]
     },
     "metadata": {
      "needs_background": "light"
     },
     "output_type": "display_data"
    }
   ],
   "source": [
    "cm = confusion_matrix(y_test, predictions)\n",
    "plt.figure()\n",
    "sns.heatmap(cm, annot=True, fmt=\".3f\", linewidths=.5, square = True, cmap = 'Blues_r');\n",
    "plt.ylabel('Actual label');\n",
    "plt.xlabel('Predicted label');\n",
    "plt.title('K-Nearest Neighbours Confusion Matrix', size = 15);\n",
    "plt.show()"
   ]
  },
  {
   "cell_type": "code",
   "execution_count": 11,
   "metadata": {},
   "outputs": [
    {
     "name": "stdout",
     "output_type": "stream",
     "text": [
      "F1 score --> 96.81253376553215%\n"
     ]
    }
   ],
   "source": [
    "# Take F1 macro score as performance metric\n",
    "f1_macro_average = f1_score(y_test, predictions)\n",
    "\n",
    "print(f'F1 score --> {f1_macro_average*100}%')"
   ]
  },
  {
   "cell_type": "code",
   "execution_count": 10,
   "metadata": {},
   "outputs": [
    {
     "name": "stdout",
     "output_type": "stream",
     "text": [
      "              precision    recall  f1-score   support\n",
      "\n",
      "           0       0.97      0.97      0.97       953\n",
      "           1       0.97      0.97      0.97       927\n",
      "\n",
      "    accuracy                           0.97      1880\n",
      "   macro avg       0.97      0.97      0.97      1880\n",
      "weighted avg       0.97      0.97      0.97      1880\n",
      "\n"
     ]
    }
   ],
   "source": [
    "print(classification_report(y_test, predictions))"
   ]
  },
  {
   "cell_type": "markdown",
   "metadata": {},
   "source": [
    "## Hyperparameter Tuning for Better Results\n",
    "\n",
    "We will tune for:\n",
    "- n_neighbors - number of neighbors\n",
    "- metric - way of calculating the distance"
   ]
  },
  {
   "cell_type": "code",
   "execution_count": null,
   "metadata": {},
   "outputs": [],
   "source": [
    "# create a list of odd n neighbours to tune for\n",
    "n_neighbors = list()\n",
    "for i in range(1,50,2):\n",
    "    n_neighbors.append(i)\n",
    "\n",
    "# create a list of all distance measurements\n",
    "metric = ['minkowski','euclidean','manhattan']\n",
    "\n",
    "#Convert to dictionary\n",
    "hyperparameters = dict(n_neighbors=n_neighbors, metric=metric)\n",
    "\n",
    "print(hyperparameters)"
   ]
  },
  {
   "cell_type": "code",
   "execution_count": null,
   "metadata": {},
   "outputs": [],
   "source": [
    "# Implement GridSearch to check and get the best hyperparameters\n",
    "\n",
    "# estimator = ML model to be tested\n",
    "# param_grid = dictionary of hyperparameters to be tested\n",
    "# scoring = the scoring metric, for this imbalanced classification task, i chose f1 macro\n",
    "# n_jobs = number of cores to be used in parallel, -1 means use all\n",
    "# cv = number of cross validation set elements\n",
    "# verbose = setting it to 2 will print updates to the terminal\n",
    "\n",
    "best_model = GridSearchCV(estimator=KNeighborsClassifier(),\n",
    "                         param_grid=hyperparameters, \n",
    "                         scoring = 'f1_macro',\n",
    "                         n_jobs=-1,\n",
    "                         cv=10,\n",
    "                         verbose=2)\n",
    "\n",
    "# Fit the model\n",
    "best_model = best_model.fit(x_train,y_train)"
   ]
  },
  {
   "cell_type": "code",
   "execution_count": null,
   "metadata": {},
   "outputs": [],
   "source": [
    "n_neighbors = best_model.best_estimator_.get_params()['n_neighbors']\n",
    "metric = best_model.best_estimator_.get_params()['metric']\n",
    "\n",
    "print(f'Best n_neighbors: {n_neighbors}')\n",
    "print(f'Best metric: {metric}')"
   ]
  },
  {
   "cell_type": "code",
   "execution_count": null,
   "metadata": {},
   "outputs": [],
   "source": [
    "# model\n",
    "k_nearest_neighbours = KNeighborsClassifier(n_neighbors=1, metric='manhattan')\n",
    "\n",
    "# fit the model\n",
    "k_nearest_neighbours.fit(x_train, y_train)\n",
    "\n",
    "# prediction\n",
    "predictions = k_nearest_neighbours.predict(x_test)"
   ]
  },
  {
   "cell_type": "code",
   "execution_count": null,
   "metadata": {},
   "outputs": [],
   "source": [
    "cm = confusion_matrix(y_test, predictions)\n",
    "plt.figure()\n",
    "sns.heatmap(cm, annot=True, fmt=\".3f\", linewidths=.5, square = True, cmap = 'Reds_r');\n",
    "plt.ylabel('Actual label');\n",
    "plt.xlabel('Predicted label');\n",
    "plt.title('K-Nearest Neighbours Confusion Matrix', size = 15);\n",
    "plt.show()"
   ]
  },
  {
   "cell_type": "code",
   "execution_count": null,
   "metadata": {},
   "outputs": [],
   "source": [
    "# Take F1 macro score as performance metric\n",
    "f1_macro_average = f1_score(y_test, predictions)\n",
    "\n",
    "print(f'F1 score --> {round(f1_macro_average*100, 2)}%')"
   ]
  }
 ],
 "metadata": {
  "kernelspec": {
   "display_name": "stroke-prediction",
   "language": "python",
   "name": "stroke-prediction"
  },
  "language_info": {
   "codemirror_mode": {
    "name": "ipython",
    "version": 3
   },
   "file_extension": ".py",
   "mimetype": "text/x-python",
   "name": "python",
   "nbconvert_exporter": "python",
   "pygments_lexer": "ipython3",
   "version": "3.9.6"
  }
 },
 "nbformat": 4,
 "nbformat_minor": 4
}
