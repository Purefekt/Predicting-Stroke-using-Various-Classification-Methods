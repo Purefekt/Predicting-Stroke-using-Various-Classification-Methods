{
 "cells": [
  {
   "cell_type": "markdown",
   "metadata": {},
   "source": [
    "# KNN"
   ]
  },
  {
   "cell_type": "code",
   "execution_count": 1,
   "metadata": {},
   "outputs": [],
   "source": [
    "# import all libraries\n",
    "import pandas as pd\n",
    "import matplotlib.pyplot as plt\n",
    "import seaborn as sns\n",
    "from sklearn.preprocessing import MinMaxScaler\n",
    "from sklearn.neighbors import KNeighborsClassifier\n",
    "from sklearn.metrics import confusion_matrix\n",
    "from sklearn.metrics import classification_report\n",
    "from sklearn.metrics import f1_score\n",
    "from sklearn.model_selection import GridSearchCV\n",
    "import time\n",
    "import json"
   ]
  },
  {
   "cell_type": "code",
   "execution_count": 2,
   "metadata": {},
   "outputs": [],
   "source": [
    "# Load the Training and Testing Data\n",
    "x_train = pd.read_pickle('data/x_train.pkl')\n",
    "y_train = pd.read_pickle('data/y_train.pkl')\n",
    "\n",
    "x_test = pd.read_pickle('data/x_test.pkl')\n",
    "y_test = pd.read_pickle('data/y_test.pkl')"
   ]
  },
  {
   "cell_type": "code",
   "execution_count": 3,
   "metadata": {},
   "outputs": [
    {
     "data": {
      "text/html": [
       "<div>\n",
       "<style scoped>\n",
       "    .dataframe tbody tr th:only-of-type {\n",
       "        vertical-align: middle;\n",
       "    }\n",
       "\n",
       "    .dataframe tbody tr th {\n",
       "        vertical-align: top;\n",
       "    }\n",
       "\n",
       "    .dataframe thead th {\n",
       "        text-align: right;\n",
       "    }\n",
       "</style>\n",
       "<table border=\"1\" class=\"dataframe\">\n",
       "  <thead>\n",
       "    <tr style=\"text-align: right;\">\n",
       "      <th></th>\n",
       "      <th>age</th>\n",
       "      <th>hypertension</th>\n",
       "      <th>heart_disease</th>\n",
       "      <th>ever_married</th>\n",
       "      <th>Residence_type</th>\n",
       "      <th>avg_glucose_level</th>\n",
       "      <th>bmi</th>\n",
       "      <th>gender__Female</th>\n",
       "      <th>gender__Male</th>\n",
       "      <th>gender__Other</th>\n",
       "      <th>work_type__Govt_job</th>\n",
       "      <th>work_type__Never_worked</th>\n",
       "      <th>work_type__Private</th>\n",
       "      <th>work_type__Self-employed</th>\n",
       "      <th>work_type__children</th>\n",
       "      <th>smoking_status__Unknown</th>\n",
       "      <th>smoking_status__formerly smoked</th>\n",
       "      <th>smoking_status__never smoked</th>\n",
       "      <th>smoking_status__smokes</th>\n",
       "    </tr>\n",
       "  </thead>\n",
       "  <tbody>\n",
       "    <tr>\n",
       "      <th>0</th>\n",
       "      <td>8.0</td>\n",
       "      <td>0</td>\n",
       "      <td>0</td>\n",
       "      <td>0</td>\n",
       "      <td>0</td>\n",
       "      <td>96.43</td>\n",
       "      <td>25.7</td>\n",
       "      <td>0</td>\n",
       "      <td>1</td>\n",
       "      <td>0</td>\n",
       "      <td>0</td>\n",
       "      <td>0</td>\n",
       "      <td>0</td>\n",
       "      <td>0</td>\n",
       "      <td>1</td>\n",
       "      <td>1</td>\n",
       "      <td>0</td>\n",
       "      <td>0</td>\n",
       "      <td>0</td>\n",
       "    </tr>\n",
       "    <tr>\n",
       "      <th>1</th>\n",
       "      <td>42.0</td>\n",
       "      <td>0</td>\n",
       "      <td>0</td>\n",
       "      <td>1</td>\n",
       "      <td>1</td>\n",
       "      <td>65.66</td>\n",
       "      <td>33.7</td>\n",
       "      <td>1</td>\n",
       "      <td>0</td>\n",
       "      <td>0</td>\n",
       "      <td>1</td>\n",
       "      <td>0</td>\n",
       "      <td>0</td>\n",
       "      <td>0</td>\n",
       "      <td>0</td>\n",
       "      <td>0</td>\n",
       "      <td>0</td>\n",
       "      <td>1</td>\n",
       "      <td>0</td>\n",
       "    </tr>\n",
       "    <tr>\n",
       "      <th>2</th>\n",
       "      <td>2.0</td>\n",
       "      <td>0</td>\n",
       "      <td>0</td>\n",
       "      <td>0</td>\n",
       "      <td>0</td>\n",
       "      <td>111.32</td>\n",
       "      <td>18.2</td>\n",
       "      <td>0</td>\n",
       "      <td>1</td>\n",
       "      <td>0</td>\n",
       "      <td>0</td>\n",
       "      <td>0</td>\n",
       "      <td>0</td>\n",
       "      <td>0</td>\n",
       "      <td>1</td>\n",
       "      <td>1</td>\n",
       "      <td>0</td>\n",
       "      <td>0</td>\n",
       "      <td>0</td>\n",
       "    </tr>\n",
       "  </tbody>\n",
       "</table>\n",
       "</div>"
      ],
      "text/plain": [
       "    age  hypertension  heart_disease  ever_married  Residence_type  \\\n",
       "0   8.0             0              0             0               0   \n",
       "1  42.0             0              0             1               1   \n",
       "2   2.0             0              0             0               0   \n",
       "\n",
       "   avg_glucose_level   bmi  gender__Female  gender__Male  gender__Other  \\\n",
       "0              96.43  25.7               0             1              0   \n",
       "1              65.66  33.7               1             0              0   \n",
       "2             111.32  18.2               0             1              0   \n",
       "\n",
       "   work_type__Govt_job  work_type__Never_worked  work_type__Private  \\\n",
       "0                    0                        0                   0   \n",
       "1                    1                        0                   0   \n",
       "2                    0                        0                   0   \n",
       "\n",
       "   work_type__Self-employed  work_type__children  smoking_status__Unknown  \\\n",
       "0                         0                    1                        1   \n",
       "1                         0                    0                        0   \n",
       "2                         0                    1                        1   \n",
       "\n",
       "   smoking_status__formerly smoked  smoking_status__never smoked  \\\n",
       "0                                0                             0   \n",
       "1                                0                             1   \n",
       "2                                0                             0   \n",
       "\n",
       "   smoking_status__smokes  \n",
       "0                       0  \n",
       "1                       0  \n",
       "2                       0  "
      ]
     },
     "execution_count": 3,
     "metadata": {},
     "output_type": "execute_result"
    }
   ],
   "source": [
    "x_train.head(3)"
   ]
  },
  {
   "cell_type": "markdown",
   "metadata": {},
   "source": [
    "## Min Max Normalization"
   ]
  },
  {
   "cell_type": "code",
   "execution_count": 4,
   "metadata": {},
   "outputs": [],
   "source": [
    "# Normalize features to [0,1]\n",
    "minmax_scaler = MinMaxScaler()\n",
    "x_train = pd.DataFrame(minmax_scaler.fit_transform(x_train), columns=x_train.columns)\n",
    "x_test = pd.DataFrame(minmax_scaler.fit_transform(x_test), columns=x_test.columns)"
   ]
  },
  {
   "cell_type": "code",
   "execution_count": 5,
   "metadata": {},
   "outputs": [
    {
     "data": {
      "text/html": [
       "<div>\n",
       "<style scoped>\n",
       "    .dataframe tbody tr th:only-of-type {\n",
       "        vertical-align: middle;\n",
       "    }\n",
       "\n",
       "    .dataframe tbody tr th {\n",
       "        vertical-align: top;\n",
       "    }\n",
       "\n",
       "    .dataframe thead th {\n",
       "        text-align: right;\n",
       "    }\n",
       "</style>\n",
       "<table border=\"1\" class=\"dataframe\">\n",
       "  <thead>\n",
       "    <tr style=\"text-align: right;\">\n",
       "      <th></th>\n",
       "      <th>age</th>\n",
       "      <th>hypertension</th>\n",
       "      <th>heart_disease</th>\n",
       "      <th>ever_married</th>\n",
       "      <th>Residence_type</th>\n",
       "      <th>avg_glucose_level</th>\n",
       "      <th>bmi</th>\n",
       "      <th>gender__Female</th>\n",
       "      <th>gender__Male</th>\n",
       "      <th>gender__Other</th>\n",
       "      <th>work_type__Govt_job</th>\n",
       "      <th>work_type__Never_worked</th>\n",
       "      <th>work_type__Private</th>\n",
       "      <th>work_type__Self-employed</th>\n",
       "      <th>work_type__children</th>\n",
       "      <th>smoking_status__Unknown</th>\n",
       "      <th>smoking_status__formerly smoked</th>\n",
       "      <th>smoking_status__never smoked</th>\n",
       "      <th>smoking_status__smokes</th>\n",
       "    </tr>\n",
       "  </thead>\n",
       "  <tbody>\n",
       "    <tr>\n",
       "      <th>0</th>\n",
       "      <td>0.096680</td>\n",
       "      <td>0.0</td>\n",
       "      <td>0.0</td>\n",
       "      <td>0.0</td>\n",
       "      <td>0.0</td>\n",
       "      <td>0.190733</td>\n",
       "      <td>0.188494</td>\n",
       "      <td>0.0</td>\n",
       "      <td>1.0</td>\n",
       "      <td>0.0</td>\n",
       "      <td>0.0</td>\n",
       "      <td>0.0</td>\n",
       "      <td>0.0</td>\n",
       "      <td>0.0</td>\n",
       "      <td>1.0</td>\n",
       "      <td>1.0</td>\n",
       "      <td>0.0</td>\n",
       "      <td>0.0</td>\n",
       "      <td>0.0</td>\n",
       "    </tr>\n",
       "    <tr>\n",
       "      <th>1</th>\n",
       "      <td>0.511719</td>\n",
       "      <td>0.0</td>\n",
       "      <td>0.0</td>\n",
       "      <td>1.0</td>\n",
       "      <td>1.0</td>\n",
       "      <td>0.048664</td>\n",
       "      <td>0.286414</td>\n",
       "      <td>1.0</td>\n",
       "      <td>0.0</td>\n",
       "      <td>0.0</td>\n",
       "      <td>1.0</td>\n",
       "      <td>0.0</td>\n",
       "      <td>0.0</td>\n",
       "      <td>0.0</td>\n",
       "      <td>0.0</td>\n",
       "      <td>0.0</td>\n",
       "      <td>0.0</td>\n",
       "      <td>1.0</td>\n",
       "      <td>0.0</td>\n",
       "    </tr>\n",
       "    <tr>\n",
       "      <th>2</th>\n",
       "      <td>0.023438</td>\n",
       "      <td>0.0</td>\n",
       "      <td>0.0</td>\n",
       "      <td>0.0</td>\n",
       "      <td>0.0</td>\n",
       "      <td>0.259482</td>\n",
       "      <td>0.096695</td>\n",
       "      <td>0.0</td>\n",
       "      <td>1.0</td>\n",
       "      <td>0.0</td>\n",
       "      <td>0.0</td>\n",
       "      <td>0.0</td>\n",
       "      <td>0.0</td>\n",
       "      <td>0.0</td>\n",
       "      <td>1.0</td>\n",
       "      <td>1.0</td>\n",
       "      <td>0.0</td>\n",
       "      <td>0.0</td>\n",
       "      <td>0.0</td>\n",
       "    </tr>\n",
       "  </tbody>\n",
       "</table>\n",
       "</div>"
      ],
      "text/plain": [
       "        age  hypertension  heart_disease  ever_married  Residence_type  \\\n",
       "0  0.096680           0.0            0.0           0.0             0.0   \n",
       "1  0.511719           0.0            0.0           1.0             1.0   \n",
       "2  0.023438           0.0            0.0           0.0             0.0   \n",
       "\n",
       "   avg_glucose_level       bmi  gender__Female  gender__Male  gender__Other  \\\n",
       "0           0.190733  0.188494             0.0           1.0            0.0   \n",
       "1           0.048664  0.286414             1.0           0.0            0.0   \n",
       "2           0.259482  0.096695             0.0           1.0            0.0   \n",
       "\n",
       "   work_type__Govt_job  work_type__Never_worked  work_type__Private  \\\n",
       "0                  0.0                      0.0                 0.0   \n",
       "1                  1.0                      0.0                 0.0   \n",
       "2                  0.0                      0.0                 0.0   \n",
       "\n",
       "   work_type__Self-employed  work_type__children  smoking_status__Unknown  \\\n",
       "0                       0.0                  1.0                      1.0   \n",
       "1                       0.0                  0.0                      0.0   \n",
       "2                       0.0                  1.0                      1.0   \n",
       "\n",
       "   smoking_status__formerly smoked  smoking_status__never smoked  \\\n",
       "0                              0.0                           0.0   \n",
       "1                              0.0                           1.0   \n",
       "2                              0.0                           0.0   \n",
       "\n",
       "   smoking_status__smokes  \n",
       "0                     0.0  \n",
       "1                     0.0  \n",
       "2                     0.0  "
      ]
     },
     "execution_count": 5,
     "metadata": {},
     "output_type": "execute_result"
    }
   ],
   "source": [
    "x_train.head(3)"
   ]
  },
  {
   "cell_type": "markdown",
   "metadata": {},
   "source": [
    "## Implementing Basic KNN"
   ]
  },
  {
   "cell_type": "code",
   "execution_count": 6,
   "metadata": {},
   "outputs": [],
   "source": [
    "# model\n",
    "k_nearest_neighbors = KNeighborsClassifier(metric='euclidean', \n",
    "                                            n_neighbors=5)\n",
    "\n",
    "# fit the model\n",
    "k_nearest_neighbors.fit(x_train, y_train)\n",
    "\n",
    "# prediction\n",
    "predictions = k_nearest_neighbors.predict(x_test)"
   ]
  },
  {
   "cell_type": "code",
   "execution_count": 9,
   "metadata": {},
   "outputs": [
    {
     "data": {
      "image/png": "[encoded data removed]",
      "text/plain": [
       "<Figure size 432x288 with 2 Axes>"
      ]
     },
     "metadata": {
      "needs_background": "light"
     },
     "output_type": "display_data"
    }
   ],
   "source": [
    "cm = confusion_matrix(y_test, predictions)\n",
    "plt.figure()\n",
    "sns.heatmap(cm, annot=True, fmt=\".3f\", linewidths=.5, square = True, cmap = 'Blues_r');\n",
    "plt.ylabel('Actual label');\n",
    "plt.xlabel('Predicted label');\n",
    "\n",
    "# plt.savefig('knn_cm_original.png', dpi=300, bbox_inches='tight')\n",
    "plt.show()"
   ]
  },
  {
   "cell_type": "code",
   "execution_count": 10,
   "metadata": {},
   "outputs": [
    {
     "name": "stdout",
     "output_type": "stream",
     "text": [
      "F1 score for class Stroke = 1 --> 96.813%\n",
      "F1 score for class Stroke = 0 --> 96.909%\n"
     ]
    }
   ],
   "source": [
    "# Performance\n",
    "f1_score_stroke_vanilla = f1_score(y_true=y_test, y_pred=predictions, pos_label=1)\n",
    "f1_score_no_stroke_vanilla = f1_score(y_true=y_test, y_pred=predictions, pos_label=0)\n",
    "\n",
    "f1_score_stroke_vanilla = round(f1_score_stroke_vanilla*100, 3)\n",
    "f1_score_no_stroke_vanilla = round(f1_score_no_stroke_vanilla*100, 3)\n",
    "\n",
    "\n",
    "\n",
    "print(f'F1 score for class Stroke = 1 --> {f1_score_stroke_vanilla}%')\n",
    "print(f'F1 score for class Stroke = 0 --> {f1_score_no_stroke_vanilla}%')"
   ]
  },
  {
   "cell_type": "code",
   "execution_count": 11,
   "metadata": {},
   "outputs": [
    {
     "name": "stdout",
     "output_type": "stream",
     "text": [
      "              precision    recall  f1-score   support\n",
      "\n",
      "           0       0.97      0.97      0.97       953\n",
      "           1       0.97      0.97      0.97       927\n",
      "\n",
      "    accuracy                           0.97      1880\n",
      "   macro avg       0.97      0.97      0.97      1880\n",
      "weighted avg       0.97      0.97      0.97      1880\n",
      "\n"
     ]
    }
   ],
   "source": [
    "print(classification_report(y_test, predictions))"
   ]
  },
  {
   "cell_type": "markdown",
   "metadata": {},
   "source": [
    "## Hyperparameter Tuning for Better Results\n",
    "\n",
    "We will tune for:\n",
    "- n_neighbors - number of neighbors, odd values from 1-49"
   ]
  },
  {
   "cell_type": "code",
   "execution_count": 12,
   "metadata": {},
   "outputs": [
    {
     "name": "stdout",
     "output_type": "stream",
     "text": [
      "Number of values for n_neighbors -> 25\n",
      "{'n_neighbors': [1, 3, 5, 7, 9, 11, 13, 15, 17, 19, 21, 23, 25, 27, 29, 31, 33, 35, 37, 39, 41, 43, 45, 47, 49]}\n"
     ]
    }
   ],
   "source": [
    "# create a list of odd n neighbors to tune for\n",
    "n_neighbors = list()\n",
    "for i in range(1,50,2):\n",
    "    n_neighbors.append(i)\n",
    "\n",
    "print(f'Number of values for n_neighbors -> {len(n_neighbors)}')\n",
    "\n",
    "#Convert to dictionary\n",
    "hyperparameters = dict(n_neighbors=n_neighbors)\n",
    "\n",
    "print(hyperparameters)"
   ]
  },
  {
   "cell_type": "code",
   "execution_count": 13,
   "metadata": {},
   "outputs": [],
   "source": [
    "# Implement GridSearch to check and get the best hyperparameters\n",
    "\n",
    "# estimator = ML model to be tested\n",
    "# param_grid = dictionary of hyperparameters to be tested\n",
    "# scoring = the scoring metric, for this imbalanced classification task, i chose f1\n",
    "# n_jobs = number of cores to be used in parallel, -1 means use all\n",
    "# cv = number of cross validation set elements\n",
    "\n",
    "best_model = GridSearchCV(estimator=KNeighborsClassifier(metric='euclidean'), \n",
    "                          param_grid=hyperparameters, \n",
    "                          scoring = 'f1',\n",
    "                          n_jobs=-1,\n",
    "                          cv=10)\n",
    "\n",
    "# Fit the model\n",
    "best_model = best_model.fit(x_train,y_train)"
   ]
  },
  {
   "cell_type": "code",
   "execution_count": 14,
   "metadata": {},
   "outputs": [
    {
     "name": "stdout",
     "output_type": "stream",
     "text": [
      "Best n_neighbors: 3\n"
     ]
    }
   ],
   "source": [
    "n_neighbors = best_model.best_estimator_.get_params()['n_neighbors']\n",
    "\n",
    "print(f'Best n_neighbors: {n_neighbors}')"
   ]
  },
  {
   "cell_type": "markdown",
   "metadata": {},
   "source": [
    "## Use New Hyperparameters"
   ]
  },
  {
   "cell_type": "code",
   "execution_count": 15,
   "metadata": {},
   "outputs": [
    {
     "name": "stdout",
     "output_type": "stream",
     "text": [
      "Time to Train --> 3.226 ms\n"
     ]
    }
   ],
   "source": [
    "# start timer\n",
    "start_time = time.time()\n",
    "\n",
    "# model\n",
    "k_nearest_neighbors = KNeighborsClassifier(metric='euclidean', \n",
    "                                            n_neighbors=n_neighbors)\n",
    "\n",
    "# fit the model\n",
    "k_nearest_neighbors.fit(x_train, y_train)\n",
    "\n",
    "# Time to train\n",
    "time_to_train = round((time.time() - start_time)*1000, 3)\n",
    "print(f'Time to Train --> {time_to_train} ms')"
   ]
  },
  {
   "cell_type": "code",
   "execution_count": 16,
   "metadata": {},
   "outputs": [
    {
     "name": "stdout",
     "output_type": "stream",
     "text": [
      "Inference time --> 281.979 ms\n"
     ]
    }
   ],
   "source": [
    "# start timer\n",
    "start_time = time.time()\n",
    "\n",
    "# prediction\n",
    "predictions = k_nearest_neighbors.predict(x_test)\n",
    "\n",
    "# Inference time\n",
    "inference_time = round((time.time() - start_time)*1000, 3)\n",
    "print(f'Inference time --> {inference_time} ms')"
   ]
  },
  {
   "cell_type": "code",
   "execution_count": 17,
   "metadata": {},
   "outputs": [
    {
     "data": {
      "image/png": "[encoded data removed]",
      "text/plain": [
       "<Figure size 432x288 with 2 Axes>"
      ]
     },
     "metadata": {
      "needs_background": "light"
     },
     "output_type": "display_data"
    }
   ],
   "source": [
    "cm = confusion_matrix(y_test, predictions)\n",
    "plt.figure()\n",
    "sns.heatmap(cm, annot=True, fmt=\".3f\", linewidths=.5, square = True, cmap = 'Greens_r');\n",
    "plt.ylabel('Actual label');\n",
    "plt.xlabel('Predicted label');\n",
    "\n",
    "plt.savefig('knn_cm_hp_tune.png', dpi=300, bbox_inches='tight')\n",
    "plt.show()"
   ]
  },
  {
   "cell_type": "code",
   "execution_count": 18,
   "metadata": {},
   "outputs": [
    {
     "name": "stdout",
     "output_type": "stream",
     "text": [
      "F1 score for class Stroke = 1 --> 97.134%\n",
      "F1 score for class Stroke = 0 --> 97.227%\n"
     ]
    }
   ],
   "source": [
    "# Performance after hyperparameter tuning\n",
    "f1_score_stroke_hp_tuning = f1_score(y_true=y_test, y_pred=predictions, pos_label=1)\n",
    "f1_score_no_stroke_hp_tuning = f1_score(y_true=y_test, y_pred=predictions, pos_label=0)\n",
    "\n",
    "f1_score_stroke_hp_tuning = round(f1_score_stroke_hp_tuning*100, 3)\n",
    "f1_score_no_stroke_hp_tuning = round(f1_score_no_stroke_hp_tuning*100, 3)\n",
    "\n",
    "print(f'F1 score for class Stroke = 1 --> {f1_score_stroke_hp_tuning}%')\n",
    "print(f'F1 score for class Stroke = 0 --> {f1_score_no_stroke_hp_tuning}%')"
   ]
  },
  {
   "cell_type": "code",
   "execution_count": 19,
   "metadata": {},
   "outputs": [
    {
     "name": "stdout",
     "output_type": "stream",
     "text": [
      "              precision    recall  f1-score   support\n",
      "\n",
      "           0       0.97      0.97      0.97       953\n",
      "           1       0.97      0.97      0.97       927\n",
      "\n",
      "    accuracy                           0.97      1880\n",
      "   macro avg       0.97      0.97      0.97      1880\n",
      "weighted avg       0.97      0.97      0.97      1880\n",
      "\n"
     ]
    }
   ],
   "source": [
    "print(classification_report(y_test, predictions))"
   ]
  },
  {
   "cell_type": "code",
   "execution_count": 20,
   "metadata": {},
   "outputs": [
    {
     "name": "stdout",
     "output_type": "stream",
     "text": [
      "Percentage increase for F1 score with stroke --> 0.332%\n",
      "Percentage increase for F1 score without stroke --> 0.328%\n"
     ]
    }
   ],
   "source": [
    "# percentage improvement due to hyperparameter tuning\n",
    "score_increase_stroke = round(((f1_score_stroke_hp_tuning - f1_score_stroke_vanilla)/f1_score_stroke_vanilla)*100, 3)\n",
    "score_increase_no_stroke = round(((f1_score_no_stroke_hp_tuning - f1_score_no_stroke_vanilla)/f1_score_no_stroke_vanilla)*100, 3)\n",
    "\n",
    "print(f'Percentage increase for F1 score with stroke --> {score_increase_stroke}%')\n",
    "print(f'Percentage increase for F1 score without stroke --> {score_increase_no_stroke}%')"
   ]
  },
  {
   "cell_type": "code",
   "execution_count": 21,
   "metadata": {},
   "outputs": [
    {
     "name": "stdout",
     "output_type": "stream",
     "text": [
      "96.813\n",
      "96.909\n",
      "---------------------------------\n",
      "97.134\n",
      "97.227\n",
      "---------------------------------\n",
      "0.332\n",
      "0.328\n",
      "---------------------------------\n",
      "3.226\n",
      "281.979\n"
     ]
    }
   ],
   "source": [
    "print(f1_score_stroke_vanilla)\n",
    "print(f1_score_no_stroke_vanilla)\n",
    "print('---------------------------------')\n",
    "print(f1_score_stroke_hp_tuning)\n",
    "print(f1_score_no_stroke_hp_tuning)\n",
    "print('---------------------------------')\n",
    "print(score_increase_stroke)\n",
    "print(score_increase_no_stroke)\n",
    "print('---------------------------------')\n",
    "print(time_to_train)\n",
    "print(inference_time)"
   ]
  },
  {
   "cell_type": "markdown",
   "metadata": {},
   "source": [
    "## Saving numbers to JSON\n",
    "\n",
    "Since this is the first model, this will create the JSON file, the other models will add to it"
   ]
  },
  {
   "cell_type": "code",
   "execution_count": 22,
   "metadata": {},
   "outputs": [],
   "source": [
    "json_dict = dict()\n",
    "\n",
    "json_dict['knn'] = {\n",
    "    \"scores_vanilla\":{\"with_stroke\":f1_score_stroke_vanilla, \"without_stroke\":f1_score_no_stroke_vanilla},\n",
    "    \"scores_after_hp_tuning\":{\"with_stroke\":f1_score_stroke_hp_tuning, \"without_stroke\":f1_score_no_stroke_hp_tuning},\n",
    "    \"percentage_increase\":{\"with_stroke\":score_increase_stroke, \"without_stroke\":score_increase_no_stroke},\n",
    "    \"time\":{\"time_to_train_final_model\":time_to_train, \"inference_time_on_final_model\":inference_time}}"
   ]
  },
  {
   "cell_type": "code",
   "execution_count": 24,
   "metadata": {},
   "outputs": [],
   "source": [
    "with open('data.json', 'w') as fp:\n",
    "    json.dump(json_dict, fp,  indent=4)"
   ]
  }
 ],
 "metadata": {
  "kernelspec": {
   "display_name": "stroke-prediction",
   "language": "python",
   "name": "stroke-prediction"
  },
  "language_info": {
   "codemirror_mode": {
    "name": "ipython",
    "version": 3
   },
   "file_extension": ".py",
   "mimetype": "text/x-python",
   "name": "python",
   "nbconvert_exporter": "python",
   "pygments_lexer": "ipython3",
   "version": "3.9.6"
  }
 },
 "nbformat": 4,
 "nbformat_minor": 4
}
