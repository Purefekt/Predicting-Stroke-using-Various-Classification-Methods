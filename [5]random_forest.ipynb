{
 "cells": [
  {
   "cell_type": "markdown",
   "metadata": {},
   "source": [
    "# Random Forest"
   ]
  },
  {
   "cell_type": "code",
   "execution_count": 1,
   "metadata": {},
   "outputs": [],
   "source": [
    "# import all libraries\n",
    "import pandas as pd\n",
    "import matplotlib.pyplot as plt\n",
    "import seaborn as sns\n",
    "from sklearn.ensemble import RandomForestClassifier\n",
    "from sklearn.metrics import confusion_matrix\n",
    "from sklearn.metrics import classification_report\n",
    "from sklearn.metrics import f1_score\n",
    "from sklearn.model_selection import GridSearchCV\n",
    "import time\n",
    "import json"
   ]
  },
  {
   "cell_type": "code",
   "execution_count": 2,
   "metadata": {},
   "outputs": [],
   "source": [
    "# Load the Training and Testing Data\n",
    "x_train = pd.read_pickle('data/x_train.pkl')\n",
    "y_train = pd.read_pickle('data/y_train.pkl')\n",
    "\n",
    "x_test = pd.read_pickle('data/x_test.pkl')\n",
    "y_test = pd.read_pickle('data/y_test.pkl')"
   ]
  },
  {
   "cell_type": "markdown",
   "metadata": {},
   "source": [
    "## Implementing Basic Random Forest"
   ]
  },
  {
   "cell_type": "code",
   "execution_count": 3,
   "metadata": {},
   "outputs": [],
   "source": [
    "# model\n",
    "random_forest = RandomForestClassifier(random_state=1, \n",
    "                                       criterion='gini', \n",
    "                                       bootstrap=True, \n",
    "                                       max_features='auto',\n",
    "                                       n_estimators=100, \n",
    "                                       max_depth=None, \n",
    "                                       min_samples_split=2)\n",
    "\n",
    "# fit the model\n",
    "random_forest.fit(x_train, y_train)\n",
    "\n",
    "# prediction\n",
    "predictions = random_forest.predict(x_test)"
   ]
  },
  {
   "cell_type": "code",
   "execution_count": 4,
   "metadata": {},
   "outputs": [
    {
     "data": {
      "image/png": "[encoded data removed]",
      "text/plain": [
       "<Figure size 432x288 with 2 Axes>"
      ]
     },
     "metadata": {
      "needs_background": "light"
     },
     "output_type": "display_data"
    }
   ],
   "source": [
    "cm = confusion_matrix(y_test, predictions)\n",
    "plt.figure()\n",
    "sns.heatmap(cm, annot=True, fmt=\".3f\", linewidths=.5, square = True, cmap = 'Blues_r');\n",
    "plt.ylabel('Actual label');\n",
    "plt.xlabel('Predicted label');\n",
    "\n",
    "# plt.savefig('rf_cm_original.png', dpi=300, bbox_inches='tight')\n",
    "plt.show()"
   ]
  },
  {
   "cell_type": "code",
   "execution_count": 5,
   "metadata": {},
   "outputs": [
    {
     "name": "stdout",
     "output_type": "stream",
     "text": [
      "F1 score for class Stroke = 1 --> 97.662%\n",
      "F1 score for class Stroke = 0 --> 97.762%\n"
     ]
    }
   ],
   "source": [
    "# Performance\n",
    "f1_score_stroke_vanilla = f1_score(y_true=y_test, y_pred=predictions, pos_label=1)\n",
    "f1_score_no_stroke_vanilla = f1_score(y_true=y_test, y_pred=predictions, pos_label=0)\n",
    "\n",
    "f1_score_stroke_vanilla = round(f1_score_stroke_vanilla*100, 3)\n",
    "f1_score_no_stroke_vanilla = round(f1_score_no_stroke_vanilla*100, 3)\n",
    "\n",
    "\n",
    "\n",
    "print(f'F1 score for class Stroke = 1 --> {f1_score_stroke_vanilla}%')\n",
    "print(f'F1 score for class Stroke = 0 --> {f1_score_no_stroke_vanilla}%')"
   ]
  },
  {
   "cell_type": "code",
   "execution_count": 6,
   "metadata": {},
   "outputs": [
    {
     "name": "stdout",
     "output_type": "stream",
     "text": [
      "              precision    recall  f1-score   support\n",
      "\n",
      "           0       0.97      0.99      0.98       953\n",
      "           1       0.98      0.97      0.98       927\n",
      "\n",
      "    accuracy                           0.98      1880\n",
      "   macro avg       0.98      0.98      0.98      1880\n",
      "weighted avg       0.98      0.98      0.98      1880\n",
      "\n"
     ]
    }
   ],
   "source": [
    "print(classification_report(y_test, predictions))"
   ]
  },
  {
   "cell_type": "markdown",
   "metadata": {},
   "source": [
    "## Hyperparameter Tuning for Better Results\n",
    "\n",
    "We will tune for:\n",
    "- n_estimators - number of trees in a forest - 100 to 1000 with 100 increments\n",
    "- max_depth - max depth till which a tree can grow to, None means there is no limit - 10 to 100 with 10 increments and None\n",
    "- min_samples_split - minimum number of samples required to split an internal node - 2,3,4,5"
   ]
  },
  {
   "cell_type": "code",
   "execution_count": 7,
   "metadata": {},
   "outputs": [
    {
     "name": "stdout",
     "output_type": "stream",
     "text": [
      "Number of values for n_estimators -> 10\n",
      "Number of values for max_depth -> 11\n",
      "Number of values for min_samples_split -> 4\n",
      "{'n_estimators': [100, 200, 300, 400, 500, 600, 700, 800, 900, 1000], 'max_depth': [10, 20, 30, 40, 50, 60, 70, 80, 90, 100, None], 'min_samples_split': [2, 3, 4, 5]}\n"
     ]
    }
   ],
   "source": [
    "# create a list of number of trees\n",
    "n_estimators = list()\n",
    "for i in range(100,1001,100):\n",
    "    n_estimators.append(i)\n",
    "\n",
    "# create a list of maximum depth till which a tree can grow\n",
    "max_depth = list()\n",
    "for i in range(10,101,10):\n",
    "    max_depth.append(i)\n",
    "max_depth.append(None)\n",
    "\n",
    "# create a list of minimum samples required to split an internal node\n",
    "min_samples_split = [2,3,4,5]\n",
    "\n",
    "print(f'Number of values for n_estimators -> {len(n_estimators)}')\n",
    "print(f'Number of values for max_depth -> {len(max_depth)}')\n",
    "print(f'Number of values for min_samples_split -> {len(min_samples_split)}')\n",
    "\n",
    "# Convert to dictionary\n",
    "hyperparameters = dict(n_estimators=n_estimators, max_depth=max_depth, min_samples_split=min_samples_split)\n",
    "\n",
    "print(hyperparameters)"
   ]
  },
  {
   "cell_type": "code",
   "execution_count": 8,
   "metadata": {},
   "outputs": [],
   "source": [
    "# Implement GridSearch to check and get the best hyperparameters\n",
    "\n",
    "# estimator = ML model to be tested\n",
    "# param_grid = dictionary of hyperparameters to be tested\n",
    "# scoring = the scoring metric, for this imbalanced classification task, i chose f1\n",
    "# n_jobs = number of cores to be used in parallel, -1 means use all\n",
    "# cv = number of cross validation set elements\n",
    "\n",
    "best_model = GridSearchCV(estimator=RandomForestClassifier(random_state=1, criterion='gini', bootstrap=True, max_features='auto'), \n",
    "                          param_grid=hyperparameters, \n",
    "                          scoring = 'f1',\n",
    "                          n_jobs=-1,\n",
    "                          cv=10)\n",
    "\n",
    "# Fit the model\n",
    "best_model = best_model.fit(x_train,y_train)"
   ]
  },
  {
   "cell_type": "code",
   "execution_count": 9,
   "metadata": {},
   "outputs": [
    {
     "name": "stdout",
     "output_type": "stream",
     "text": [
      "Best n_estimators: 300\n",
      "Best max_depth: 30\n",
      "Best min_samples_split: 2\n"
     ]
    }
   ],
   "source": [
    "n_estimators = best_model.best_estimator_.get_params()['n_estimators']\n",
    "max_depth = best_model.best_estimator_.get_params()['max_depth']\n",
    "min_samples_split = best_model.best_estimator_.get_params()['min_samples_split']\n",
    "\n",
    "print(f'Best n_estimators: {n_estimators}')\n",
    "print(f'Best max_depth: {max_depth}')\n",
    "print(f'Best min_samples_split: {min_samples_split}')"
   ]
  },
  {
   "cell_type": "code",
   "execution_count": 3,
   "metadata": {},
   "outputs": [],
   "source": [
    "n_estimators = 300\n",
    "max_depth = 30\n",
    "min_samples_split = 2"
   ]
  },
  {
   "cell_type": "markdown",
   "metadata": {},
   "source": [
    "## Use New Hyperparameters"
   ]
  },
  {
   "cell_type": "code",
   "execution_count": 8,
   "metadata": {},
   "outputs": [
    {
     "name": "stdout",
     "output_type": "stream",
     "text": [
      "Time to Train --> 1407.913 ms\n"
     ]
    }
   ],
   "source": [
    "# start timer\n",
    "start_time = time.time()\n",
    "\n",
    "# model\n",
    "random_forest = RandomForestClassifier(random_state=1, \n",
    "                                       criterion='gini', \n",
    "                                       bootstrap=True, \n",
    "                                       max_features='auto',\n",
    "                                       n_estimators=n_estimators, \n",
    "                                       max_depth=max_depth, \n",
    "                                       min_samples_split=min_samples_split)\n",
    "\n",
    "# fit the model\n",
    "random_forest.fit(x_train, y_train)\n",
    "\n",
    "# Time to train\n",
    "time_to_train = round((time.time() - start_time)*1000, 3)\n",
    "print(f'Time to Train --> {time_to_train} ms')"
   ]
  },
  {
   "cell_type": "code",
   "execution_count": 9,
   "metadata": {},
   "outputs": [
    {
     "name": "stdout",
     "output_type": "stream",
     "text": [
      "Inference time --> 102.731 ms\n"
     ]
    }
   ],
   "source": [
    "# start timer\n",
    "start_time = time.time()\n",
    "\n",
    "# prediction\n",
    "predictions = random_forest.predict(x_test)\n",
    "\n",
    "# Inference time\n",
    "inference_time = round((time.time() - start_time)*1000, 3)\n",
    "print(f'Inference time --> {inference_time} ms')"
   ]
  },
  {
   "cell_type": "code",
   "execution_count": 6,
   "metadata": {},
   "outputs": [
    {
     "data": {
      "image/png": "[encoded data removed]",
      "text/plain": [
       "<Figure size 432x288 with 2 Axes>"
      ]
     },
     "metadata": {
      "needs_background": "light"
     },
     "output_type": "display_data"
    }
   ],
   "source": [
    "cm = confusion_matrix(y_test, predictions)\n",
    "plt.figure()\n",
    "sns.heatmap(cm, annot=True, fmt=\".3f\", linewidths=.5, square = True, cmap = 'Greens_r');\n",
    "plt.ylabel('Actual label');\n",
    "plt.xlabel('Predicted label');\n",
    "\n",
    "plt.savefig('rf_cm_hp_tune.png', dpi=300, bbox_inches='tight')\n",
    "plt.show()"
   ]
  },
  {
   "cell_type": "code",
   "execution_count": 7,
   "metadata": {},
   "outputs": [
    {
     "name": "stdout",
     "output_type": "stream",
     "text": [
      "F1 score for class Stroke = 1 --> 97.824%\n",
      "F1 score for class Stroke = 0 --> 97.919%\n"
     ]
    }
   ],
   "source": [
    "# Performance after hyperparameter tuning\n",
    "f1_score_stroke_hp_tuning = f1_score(y_true=y_test, y_pred=predictions, pos_label=1)\n",
    "f1_score_no_stroke_hp_tuning = f1_score(y_true=y_test, y_pred=predictions, pos_label=0)\n",
    "\n",
    "f1_score_stroke_hp_tuning = round(f1_score_stroke_hp_tuning*100, 3)\n",
    "f1_score_no_stroke_hp_tuning = round(f1_score_no_stroke_hp_tuning*100, 3)\n",
    "\n",
    "print(f'F1 score for class Stroke = 1 --> {f1_score_stroke_hp_tuning}%')\n",
    "print(f'F1 score for class Stroke = 0 --> {f1_score_no_stroke_hp_tuning}%')"
   ]
  },
  {
   "cell_type": "code",
   "execution_count": 14,
   "metadata": {},
   "outputs": [
    {
     "name": "stdout",
     "output_type": "stream",
     "text": [
      "              precision    recall  f1-score   support\n",
      "\n",
      "           0       0.97      0.99      0.98       953\n",
      "           1       0.99      0.97      0.98       927\n",
      "\n",
      "    accuracy                           0.98      1880\n",
      "   macro avg       0.98      0.98      0.98      1880\n",
      "weighted avg       0.98      0.98      0.98      1880\n",
      "\n"
     ]
    }
   ],
   "source": [
    "print(classification_report(y_test, predictions))"
   ]
  },
  {
   "cell_type": "code",
   "execution_count": 15,
   "metadata": {},
   "outputs": [
    {
     "name": "stdout",
     "output_type": "stream",
     "text": [
      "Percentage increase for F1 score with stroke --> 0.166%\n",
      "Percentage increase for F1 score without stroke --> 0.161%\n"
     ]
    }
   ],
   "source": [
    "# percentage improvement due to hyperparameter tuning\n",
    "score_increase_stroke = round(((f1_score_stroke_hp_tuning - f1_score_stroke_vanilla)/f1_score_stroke_vanilla)*100, 3)\n",
    "score_increase_no_stroke = round(((f1_score_no_stroke_hp_tuning - f1_score_no_stroke_vanilla)/f1_score_no_stroke_vanilla)*100, 3)\n",
    "\n",
    "print(f'Percentage increase for F1 score with stroke --> {score_increase_stroke}%')\n",
    "print(f'Percentage increase for F1 score without stroke --> {score_increase_no_stroke}%')"
   ]
  },
  {
   "cell_type": "code",
   "execution_count": 16,
   "metadata": {},
   "outputs": [
    {
     "name": "stdout",
     "output_type": "stream",
     "text": [
      "97.662\n",
      "97.762\n",
      "---------------------------------\n",
      "97.824\n",
      "97.919\n",
      "---------------------------------\n",
      "0.166\n",
      "0.161\n",
      "---------------------------------\n",
      "1.3958\n",
      "0.0809\n"
     ]
    }
   ],
   "source": [
    "print(f1_score_stroke_vanilla)\n",
    "print(f1_score_no_stroke_vanilla)\n",
    "print('---------------------------------')\n",
    "print(f1_score_stroke_hp_tuning)\n",
    "print(f1_score_no_stroke_hp_tuning)\n",
    "print('---------------------------------')\n",
    "print(score_increase_stroke)\n",
    "print(score_increase_no_stroke)\n",
    "print('---------------------------------')\n",
    "print(time_to_train)\n",
    "print(inference_time)"
   ]
  },
  {
   "cell_type": "markdown",
   "metadata": {},
   "source": [
    "## Saving numbers to JSON\n",
    "\n",
    "Since this isnt the first model, read the previously made JSON file and then add to it"
   ]
  },
  {
   "cell_type": "code",
   "execution_count": 18,
   "metadata": {},
   "outputs": [],
   "source": [
    "# read previously created JSON\n",
    "with open('results.json') as json_file:\n",
    "    json_dict = json.load(json_file)\n",
    "\n",
    "# add to it\n",
    "json_dict['rf'] = {\n",
    "    \"scores_vanilla\":{\"with_stroke\":f1_score_stroke_vanilla, \"without_stroke\":f1_score_no_stroke_vanilla},\n",
    "    \"scores_after_hp_tuning\":{\"with_stroke\":f1_score_stroke_hp_tuning, \"without_stroke\":f1_score_no_stroke_hp_tuning},\n",
    "    \"percentage_increase\":{\"with_stroke\":score_increase_stroke, \"without_stroke\":score_increase_no_stroke},\n",
    "    \"time\":{\"time_to_train_final_model\":time_to_train, \"inference_time_on_final_model\":inference_time}}"
   ]
  },
  {
   "cell_type": "code",
   "execution_count": 19,
   "metadata": {},
   "outputs": [],
   "source": [
    "with open('results.json', 'w') as fp:\n",
    "    json.dump(json_dict, fp,  indent=4)"
   ]
  }
 ],
 "metadata": {
  "kernelspec": {
   "display_name": "stroke-prediction",
   "language": "python",
   "name": "stroke-prediction"
  },
  "language_info": {
   "codemirror_mode": {
    "name": "ipython",
    "version": 3
   },
   "file_extension": ".py",
   "mimetype": "text/x-python",
   "name": "python",
   "nbconvert_exporter": "python",
   "pygments_lexer": "ipython3",
   "version": "3.9.6"
  }
 },
 "nbformat": 4,
 "nbformat_minor": 4
}
