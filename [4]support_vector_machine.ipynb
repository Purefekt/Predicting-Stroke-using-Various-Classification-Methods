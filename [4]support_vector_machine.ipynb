{
 "cells": [
  {
   "cell_type": "markdown",
   "metadata": {},
   "source": [
    "# Support Vector Machine"
   ]
  },
  {
   "cell_type": "code",
   "execution_count": 6,
   "metadata": {},
   "outputs": [],
   "source": [
    "# import all libraries\n",
    "import pandas as pd\n",
    "import matplotlib.pyplot as plt\n",
    "import seaborn as sns\n",
    "from sklearn.svm import SVC\n",
    "from sklearn.metrics import confusion_matrix\n",
    "from sklearn.metrics import f1_score\n",
    "from sklearn.model_selection import GridSearchCV"
   ]
  },
  {
   "cell_type": "code",
   "execution_count": 7,
   "metadata": {},
   "outputs": [],
   "source": [
    "# Load the Training and Testing Data\n",
    "x_train = pd.read_pickle('data/x_train_res.pkl')\n",
    "y_train = pd.read_pickle('data/y_train_res.pkl')\n",
    "\n",
    "x_test = pd.read_pickle('data/x_test.pkl')\n",
    "y_test = pd.read_pickle('data/y_test.pkl')"
   ]
  },
  {
   "cell_type": "markdown",
   "metadata": {},
   "source": [
    "## Implementing Basic Support Vector Machine"
   ]
  },
  {
   "cell_type": "code",
   "execution_count": 8,
   "metadata": {},
   "outputs": [],
   "source": [
    "# model\n",
    "svm = SVC()\n",
    "\n",
    "# fit the model\n",
    "svm.fit(x_train, y_train)\n",
    "\n",
    "# prediction\n",
    "predictions = svm.predict(x_test)"
   ]
  },
  {
   "cell_type": "code",
   "execution_count": 9,
   "metadata": {},
   "outputs": [
    {
     "data": {
      "image/png": "[encoded data removed]",
      "text/plain": [
       "<Figure size 432x288 with 2 Axes>"
      ]
     },
     "metadata": {
      "needs_background": "light"
     },
     "output_type": "display_data"
    }
   ],
   "source": [
    "cm = confusion_matrix(y_test, predictions)\n",
    "plt.figure()\n",
    "sns.heatmap(cm, annot=True, fmt=\".3f\", linewidths=.5, square = True, cmap = 'Reds_r');\n",
    "plt.ylabel('Actual label');\n",
    "plt.xlabel('Predicted label');\n",
    "plt.title('Support Vector Machine Confusion Matrix', size = 15);\n",
    "plt.show()"
   ]
  },
  {
   "cell_type": "code",
   "execution_count": 10,
   "metadata": {},
   "outputs": [
    {
     "name": "stdout",
     "output_type": "stream",
     "text": [
      "F1 score --> 52.1%\n"
     ]
    }
   ],
   "source": [
    "# Take F1 macro score as performance metric\n",
    "f1_macro_average = f1_score(y_test, predictions, average='macro')\n",
    "\n",
    "print(f'F1 score --> {round(f1_macro_average*100, 2)}%')"
   ]
  },
  {
   "cell_type": "markdown",
   "metadata": {},
   "source": [
    "## Hyperparameter Tuning for Better Results\n",
    "\n",
    "We will tune for:\n",
    "- Regularization parameter (C)\n",
    "- Kernel coefficient (gamma)"
   ]
  },
  {
   "cell_type": "code",
   "execution_count": 21,
   "metadata": {},
   "outputs": [
    {
     "name": "stdout",
     "output_type": "stream",
     "text": [
      "{'C': [0.1, 1, 10, 100]}\n"
     ]
    }
   ],
   "source": [
    "# Create a list of Regularization parameter values\n",
    "C = [0.1, 1, 10, 100]\n",
    "# create a list of gamma values\n",
    "# gamma = [0.0001, 0.001, 0.01, 0.1, 1, 10]\n",
    "\n",
    "#Convert to dictionary\n",
    "hyperparameters = dict(C=C)\n",
    "\n",
    "print(hyperparameters)"
   ]
  },
  {
   "cell_type": "code",
   "execution_count": 22,
   "metadata": {},
   "outputs": [
    {
     "name": "stdout",
     "output_type": "stream",
     "text": [
      "Fitting 10 folds for each of 4 candidates, totalling 40 fits\n"
     ]
    }
   ],
   "source": [
    "# Implement GridSearch to check and get the best hyperparameters\n",
    "\n",
    "# estimator = ML model to be tested\n",
    "# param_grid = dictionary of hyperparameters to be tested\n",
    "# scoring = the scoring metric, for this imbalanced classification task, i chose f1 macro\n",
    "# n_jobs = number of cores to be used in parallel, -1 means use all\n",
    "# cv = number of cross validation set elements\n",
    "# verbose = setting it to 2 will print updates to the terminal\n",
    "\n",
    "best_model = GridSearchCV(estimator=SVC(),\n",
    "                         param_grid=hyperparameters, \n",
    "                         scoring = 'f1_macro',\n",
    "                         n_jobs=-1,\n",
    "                         cv=10,\n",
    "                         verbose=2)\n",
    "\n",
    "# Fit the model\n",
    "best_model = best_model.fit(x_train,y_train)"
   ]
  },
  {
   "cell_type": "code",
   "execution_count": 23,
   "metadata": {},
   "outputs": [
    {
     "name": "stdout",
     "output_type": "stream",
     "text": [
      "Best C: 100\n",
      "Best gamma: scale\n"
     ]
    }
   ],
   "source": [
    "C = best_model.best_estimator_.get_params()['C']\n",
    "gamma = best_model.best_estimator_.get_params()['gamma']\n",
    "\n",
    "print(f'Best C: {C}')\n",
    "print(f'Best gamma: {gamma}')"
   ]
  },
  {
   "cell_type": "code",
   "execution_count": 24,
   "metadata": {},
   "outputs": [],
   "source": [
    "# model\n",
    "svm = SVC(C=C)\n",
    "\n",
    "# fit the model\n",
    "svm.fit(x_train, y_train)\n",
    "\n",
    "# prediction\n",
    "predictions = svm.predict(x_test)"
   ]
  },
  {
   "cell_type": "code",
   "execution_count": 25,
   "metadata": {},
   "outputs": [
    {
     "data": {
      "image/png": "[encoded data removed]",
      "text/plain": [
       "<Figure size 432x288 with 2 Axes>"
      ]
     },
     "metadata": {
      "needs_background": "light"
     },
     "output_type": "display_data"
    }
   ],
   "source": [
    "cm = confusion_matrix(y_test, predictions)\n",
    "plt.figure()\n",
    "sns.heatmap(cm, annot=True, fmt=\".3f\", linewidths=.5, square = True, cmap = 'Reds_r');\n",
    "plt.ylabel('Actual label');\n",
    "plt.xlabel('Predicted label');\n",
    "plt.title('Support Vector Machine Confusion Matrix', size = 15);\n",
    "plt.show()"
   ]
  },
  {
   "cell_type": "code",
   "execution_count": 26,
   "metadata": {},
   "outputs": [
    {
     "name": "stdout",
     "output_type": "stream",
     "text": [
      "F1 score --> 48.6%\n",
      "[CV] END .................................C=0.1, gamma=0.001; total time=   7.5s\n",
      "[CV] END ..................................C=0.1, gamma=0.01; total time=   4.3s\n",
      "[CV] END ...................................C=0.1, gamma=0.1; total time=   3.5s\n",
      "[CV] END .....................................C=0.1, gamma=1; total time=   5.2s\n",
      "[CV] END ..................................C=1, gamma=0.0001; total time=   5.6s\n",
      "[CV] END ....................................C=1, gamma=0.01; total time=   3.4s\n",
      "[CV] END .....................................C=1, gamma=0.1; total time=   2.5s\n",
      "[CV] END ......................................C=1, gamma=10; total time=   7.8s\n",
      "[CV] END ..................................C=10, gamma=0.001; total time=   3.2s\n",
      "[CV] END ...................................C=10, gamma=0.01; total time=   2.9s\n",
      "[CV] END ......................................C=10, gamma=1; total time=   3.4s\n",
      "[CV] END ................................C=100, gamma=0.0001; total time=   3.4s\n",
      "[CV] END ................................C=100, gamma=0.0001; total time=   3.3s\n",
      "[CV] END .................................C=100, gamma=0.001; total time=   3.6s\n",
      "[CV] END .....................................C=100, gamma=1; total time=   3.6s\n",
      "[CV] END ..............................................C=0.1; total time=   3.4s\n",
      "[CV] END ...............................................C=10; total time=   2.0s\n",
      "[CV] END .................................C=0.1, gamma=0.001; total time=   7.4s\n",
      "[CV] END .................................C=0.1, gamma=0.001; total time=   5.5s\n",
      "[CV] END ...................................C=0.1, gamma=0.1; total time=   3.9s\n",
      "[CV] END ....................................C=0.1, gamma=10; total time=   6.3s\n",
      "[CV] END ..................................C=1, gamma=0.0001; total time=   5.7s\n",
      "[CV] END .....................................C=1, gamma=0.1; total time=   2.5s\n",
      "[CV] END .......................................C=1, gamma=1; total time=   4.1s\n",
      "[CV] END ......................................C=1, gamma=10; total time=   6.7s\n",
      "[CV] END ..................................C=10, gamma=0.001; total time=   3.3s\n",
      "[CV] END ....................................C=10, gamma=0.1; total time=   1.8s\n",
      "[CV] END .....................................C=10, gamma=10; total time=   7.0s\n",
      "[CV] END .................................C=100, gamma=0.001; total time=   3.4s\n",
      "[CV] END ..................................C=100, gamma=0.01; total time=   2.9s\n",
      "[CV] END .....................................C=100, gamma=1; total time=   3.4s\n",
      "[CV] END ..............................................C=0.1; total time=   3.5s\n",
      "[CV] END ...............................................C=10; total time=   2.0s\n",
      "[CV] END ................................C=0.1, gamma=0.0001; total time=   8.4s\n",
      "[CV] END ..................................C=0.1, gamma=0.01; total time=   4.6s\n",
      "[CV] END .....................................C=0.1, gamma=1; total time=   5.3s\n",
      "[CV] END ..................................C=1, gamma=0.0001; total time=   5.3s\n",
      "[CV] END ...................................C=1, gamma=0.001; total time=   4.7s\n",
      "[CV] END ....................................C=1, gamma=0.01; total time=   3.2s\n",
      "[CV] END .......................................C=1, gamma=1; total time=   4.1s\n",
      "[CV] END .................................C=10, gamma=0.0001; total time=   4.0s\n",
      "[CV] END .................................C=10, gamma=0.0001; total time=   3.7s\n",
      "[CV] END ....................................C=10, gamma=0.1; total time=   1.8s\n",
      "[CV] END ....................................C=10, gamma=0.1; total time=   1.7s\n",
      "[CV] END .....................................C=10, gamma=10; total time=   7.2s\n",
      "[CV] END .................................C=100, gamma=0.001; total time=   3.5s\n",
      "[CV] END ...................................C=100, gamma=0.1; total time=   1.9s\n",
      "[CV] END .....................................C=100, gamma=1; total time=   3.7s\n",
      "[CV] END ..............................................C=0.1; total time=   3.5s\n",
      "[CV] END ...............................................C=10; total time=   2.0s\n",
      "[CV] END .................................C=0.1, gamma=0.001; total time=   7.5s\n",
      "[CV] END .................................C=0.1, gamma=0.001; total time=   5.5s\n",
      "[CV] END .....................................C=0.1, gamma=1; total time=   5.3s\n",
      "[CV] END ..................................C=1, gamma=0.0001; total time=   5.3s\n",
      "[CV] END ...................................C=1, gamma=0.001; total time=   4.7s\n",
      "[CV] END ....................................C=1, gamma=0.01; total time=   3.2s\n",
      "[CV] END .......................................C=1, gamma=1; total time=   4.1s\n",
      "[CV] END .................................C=10, gamma=0.0001; total time=   4.0s\n",
      "[CV] END .................................C=10, gamma=0.0001; total time=   3.6s\n",
      "[CV] END ....................................C=10, gamma=0.1; total time=   1.8s\n",
      "[CV] END ....................................C=10, gamma=0.1; total time=   1.8s\n",
      "[CV] END .....................................C=10, gamma=10; total time=   7.0s\n",
      "[CV] END .................................C=100, gamma=0.001; total time=   3.4s\n",
      "[CV] END ..................................C=100, gamma=0.01; total time=   2.8s\n",
      "[CV] END .....................................C=100, gamma=1; total time=   3.6s\n",
      "[CV] END ..............................................C=0.1; total time=   3.5s\n",
      "[CV] END ...............................................C=10; total time=   2.0s\n",
      "[CV] END ................................C=0.1, gamma=0.0001; total time=   8.4s\n",
      "[CV] END ..................................C=0.1, gamma=0.01; total time=   4.6s\n",
      "[CV] END .....................................C=0.1, gamma=1; total time=   5.3s\n",
      "[CV] END ....................................C=0.1, gamma=10; total time=   6.1s\n",
      "[CV] END ...................................C=1, gamma=0.001; total time=   4.8s\n",
      "[CV] END .....................................C=1, gamma=0.1; total time=   2.5s\n",
      "[CV] END .......................................C=1, gamma=1; total time=   4.1s\n",
      "[CV] END .................................C=10, gamma=0.0001; total time=   4.0s\n",
      "[CV] END ..................................C=10, gamma=0.001; total time=   3.2s\n",
      "[CV] END ...................................C=10, gamma=0.01; total time=   2.8s\n",
      "[CV] END ......................................C=10, gamma=1; total time=   3.4s\n",
      "[CV] END .....................................C=10, gamma=10; total time=   6.8s\n",
      "[CV] END ..................................C=100, gamma=0.01; total time=   3.0s\n",
      "[CV] END ...................................C=100, gamma=0.1; total time=   1.8s\n",
      "[CV] END ....................................C=100, gamma=10; total time=   5.5s\n",
      "[CV] END ..............................................C=0.1; total time=   3.5s\n",
      "[CV] END ...............................................C=10; total time=   2.0s\n",
      "[CV] END ................................C=0.1, gamma=0.0001; total time=   8.4s\n",
      "[CV] END ..................................C=0.1, gamma=0.01; total time=   4.6s\n",
      "[CV] END ...................................C=0.1, gamma=0.1; total time=   3.9s\n",
      "[CV] END ....................................C=0.1, gamma=10; total time=   6.3s\n",
      "[CV] END ...................................C=1, gamma=0.001; total time=   4.4s\n",
      "[CV] END ....................................C=1, gamma=0.01; total time=   3.2s\n",
      "[CV] END .....................................C=1, gamma=0.1; total time=   2.4s\n",
      "[CV] END ......................................C=1, gamma=10; total time=   8.0s\n",
      "[CV] END ..................................C=10, gamma=0.001; total time=   3.2s\n",
      "[CV] END ....................................C=10, gamma=0.1; total time=   1.8s\n",
      "[CV] END ......................................C=10, gamma=1; total time=   3.3s\n",
      "[CV] END ................................C=100, gamma=0.0001; total time=   3.4s\n",
      "[CV] END .................................C=100, gamma=0.001; total time=   3.2s\n",
      "[CV] END ..................................C=100, gamma=0.01; total time=   2.9s\n",
      "[CV] END ...................................C=100, gamma=0.1; total time=   1.8s\n",
      "[CV] END ....................................C=100, gamma=10; total time=   5.5s\n",
      "[CV] END ..............................................C=0.1; total time=   3.5s\n",
      "[CV] END ..............................................C=100; total time=   1.9s\n"
     ]
    },
    {
     "name": "stdout",
     "output_type": "stream",
     "text": [
      "[CV] END ................................C=0.1, gamma=0.0001; total time=   8.4s\n",
      "[CV] END ...................................C=0.1, gamma=0.1; total time=   4.3s\n",
      "[CV] END ...................................C=0.1, gamma=0.1; total time=   3.9s\n",
      "[CV] END ....................................C=0.1, gamma=10; total time=   6.3s\n",
      "[CV] END ..................................C=1, gamma=0.0001; total time=   5.7s\n",
      "[CV] END ....................................C=1, gamma=0.01; total time=   3.2s\n",
      "[CV] END ......................................C=1, gamma=10; total time=   7.5s\n",
      "[CV] END .................................C=10, gamma=0.0001; total time=   3.7s\n",
      "[CV] END ...................................C=10, gamma=0.01; total time=   2.8s\n",
      "[CV] END ......................................C=10, gamma=1; total time=   3.4s\n",
      "[CV] END ................................C=100, gamma=0.0001; total time=   3.4s\n",
      "[CV] END ................................C=100, gamma=0.0001; total time=   3.4s\n",
      "[CV] END ..................................C=100, gamma=0.01; total time=   2.9s\n",
      "[CV] END ...................................C=100, gamma=0.1; total time=   1.8s\n",
      "[CV] END ....................................C=100, gamma=10; total time=   5.9s\n",
      "[CV] END ..............................................C=0.1; total time=   3.5s\n",
      "[CV] END ...............................................C=10; total time=   2.0s\n",
      "[CV] END ................................C=0.1, gamma=0.0001; total time=   8.4s\n",
      "[CV] END ..................................C=0.1, gamma=0.01; total time=   4.6s\n",
      "[CV] END .....................................C=0.1, gamma=1; total time=   5.3s\n",
      "[CV] END ....................................C=0.1, gamma=10; total time=   6.1s\n",
      "[CV] END ...................................C=1, gamma=0.001; total time=   4.7s\n",
      "[CV] END .....................................C=1, gamma=0.1; total time=   2.5s\n",
      "[CV] END .......................................C=1, gamma=1; total time=   4.2s\n",
      "[CV] END .................................C=10, gamma=0.0001; total time=   4.0s\n",
      "[CV] END ..................................C=10, gamma=0.001; total time=   3.2s\n",
      "[CV] END ...................................C=10, gamma=0.01; total time=   2.9s\n",
      "[CV] END ......................................C=10, gamma=1; total time=   3.4s\n",
      "[CV] END ................................C=100, gamma=0.0001; total time=   3.5s\n",
      "[CV] END ................................C=100, gamma=0.0001; total time=   3.3s\n",
      "[CV] END ..................................C=100, gamma=0.01; total time=   3.0s\n",
      "[CV] END ...................................C=100, gamma=0.1; total time=   1.7s\n",
      "[CV] END ....................................C=100, gamma=10; total time=   6.1s\n",
      "[CV] END ..............................................C=0.1; total time=   3.5s\n",
      "[CV] END ..............................................C=100; total time=   1.9s\n",
      "[CV] END .................................C=0.1, gamma=0.001; total time=   7.4s\n",
      "[CV] END .................................C=0.1, gamma=0.001; total time=   5.5s\n",
      "[CV] END ...................................C=0.1, gamma=0.1; total time=   3.9s\n",
      "[CV] END ....................................C=0.1, gamma=10; total time=   6.4s\n",
      "[CV] END ..................................C=1, gamma=0.0001; total time=   5.7s\n",
      "[CV] END .....................................C=1, gamma=0.1; total time=   2.5s\n",
      "[CV] END .......................................C=1, gamma=1; total time=   4.0s\n",
      "[CV] END ......................................C=1, gamma=10; total time=   6.7s\n",
      "[CV] END ..................................C=10, gamma=0.001; total time=   3.3s\n",
      "[CV] END ....................................C=10, gamma=0.1; total time=   1.8s\n",
      "[CV] END .....................................C=10, gamma=10; total time=   7.1s\n",
      "[CV] END .................................C=100, gamma=0.001; total time=   3.4s\n",
      "[CV] END ...................................C=100, gamma=0.1; total time=   1.9s\n",
      "[CV] END .....................................C=100, gamma=1; total time=   3.6s\n",
      "[CV] END ................................................C=1; total time=   2.7s\n",
      "[CV] END ...............................................C=10; total time=   1.8s\n",
      "[CV] END ..............................................C=100; total time=   1.5s\n",
      "[CV] END .................................C=0.1, gamma=0.001; total time=   7.5s\n",
      "[CV] END ..................................C=0.1, gamma=0.01; total time=   4.3s\n",
      "[CV] END ...................................C=0.1, gamma=0.1; total time=   3.5s\n",
      "[CV] END .....................................C=0.1, gamma=1; total time=   5.1s\n",
      "[CV] END ..................................C=1, gamma=0.0001; total time=   5.6s\n",
      "[CV] END ....................................C=1, gamma=0.01; total time=   3.4s\n",
      "[CV] END .....................................C=1, gamma=0.1; total time=   2.5s\n",
      "[CV] END ......................................C=1, gamma=10; total time=   7.7s\n",
      "[CV] END ..................................C=10, gamma=0.001; total time=   3.3s\n",
      "[CV] END ...................................C=10, gamma=0.01; total time=   2.9s\n",
      "[CV] END ......................................C=10, gamma=1; total time=   3.5s\n",
      "[CV] END ................................C=100, gamma=0.0001; total time=   3.5s\n",
      "[CV] END .................................C=100, gamma=0.001; total time=   3.3s\n",
      "[CV] END ..................................C=100, gamma=0.01; total time=   3.0s\n",
      "[CV] END .....................................C=100, gamma=1; total time=   3.6s\n",
      "[CV] END ....................................C=100, gamma=10; total time=   4.5s\n",
      "[CV] END ................................................C=1; total time=   2.7s\n",
      "[CV] END ...............................................C=10; total time=   1.8s\n",
      "[CV] END ..............................................C=100; total time=   1.5s\n",
      "[CV] END ................................C=0.1, gamma=0.0001; total time=   8.3s\n",
      "[CV] END ..................................C=0.1, gamma=0.01; total time=   4.6s\n",
      "[CV] END ...................................C=0.1, gamma=0.1; total time=   3.9s\n",
      "[CV] END ....................................C=0.1, gamma=10; total time=   6.3s\n",
      "[CV] END ...................................C=1, gamma=0.001; total time=   4.5s\n",
      "[CV] END ....................................C=1, gamma=0.01; total time=   3.3s\n",
      "[CV] END .....................................C=1, gamma=0.1; total time=   2.3s\n",
      "[CV] END ......................................C=1, gamma=10; total time=   7.4s\n",
      "[CV] END ..................................C=10, gamma=0.001; total time=   3.1s\n",
      "[CV] END ....................................C=10, gamma=0.1; total time=   1.9s\n",
      "[CV] END ......................................C=10, gamma=1; total time=   3.4s\n",
      "[CV] END .....................................C=10, gamma=10; total time=   6.9s\n",
      "[CV] END .................................C=100, gamma=0.001; total time=   3.5s\n",
      "[CV] END .....................................C=100, gamma=1; total time=   3.6s\n",
      "[CV] END ....................................C=100, gamma=10; total time=   4.3s\n",
      "[CV] END ................................................C=1; total time=   2.5s\n",
      "[CV] END ................................................C=1; total time=   2.3s\n",
      "[CV] END ..............................................C=100; total time=   1.3s\n",
      "[CV] END ................................C=0.1, gamma=0.0001; total time=   8.4s\n",
      "[CV] END ...................................C=0.1, gamma=0.1; total time=   4.2s\n",
      "[CV] END ...................................C=0.1, gamma=0.1; total time=   3.8s\n",
      "[CV] END ....................................C=0.1, gamma=10; total time=   6.1s\n",
      "[CV] END ..................................C=1, gamma=0.0001; total time=   5.7s\n",
      "[CV] END ....................................C=1, gamma=0.01; total time=   3.2s\n",
      "[CV] END .......................................C=1, gamma=1; total time=   4.1s\n",
      "[CV] END ......................................C=1, gamma=10; total time=   7.3s\n",
      "[CV] END ...................................C=10, gamma=0.01; total time=   2.8s\n",
      "[CV] END ....................................C=10, gamma=0.1; total time=   1.8s\n",
      "[CV] END .....................................C=10, gamma=10; total time=   7.4s\n",
      "[CV] END .................................C=100, gamma=0.001; total time=   3.6s\n",
      "[CV] END ...................................C=100, gamma=0.1; total time=   1.7s\n",
      "[CV] END .....................................C=100, gamma=1; total time=   3.6s\n",
      "[CV] END ................................................C=1; total time=   2.6s\n",
      "[CV] END ................................................C=1; total time=   2.4s\n",
      "[CV] END ..............................................C=100; total time=   1.2s\n",
      "[CV] END ................................C=0.1, gamma=0.0001; total time=   8.4s\n",
      "[CV] END ..................................C=0.1, gamma=0.01; total time=   4.6s\n",
      "[CV] END .....................................C=0.1, gamma=1; total time=   5.3s\n",
      "[CV] END ..................................C=1, gamma=0.0001; total time=   5.4s\n",
      "[CV] END ...................................C=1, gamma=0.001; total time=   4.7s\n",
      "[CV] END ....................................C=1, gamma=0.01; total time=   3.3s\n",
      "[CV] END ......................................C=1, gamma=10; total time=   7.6s\n",
      "[CV] END .................................C=10, gamma=0.0001; total time=   3.7s\n",
      "[CV] END ...................................C=10, gamma=0.01; total time=   2.8s\n",
      "[CV] END ......................................C=10, gamma=1; total time=   3.4s\n",
      "[CV] END .....................................C=10, gamma=10; total time=   7.1s\n",
      "[CV] END ..................................C=100, gamma=0.01; total time=   3.0s\n",
      "[CV] END .....................................C=100, gamma=1; total time=   3.5s\n",
      "[CV] END ....................................C=100, gamma=10; total time=   4.7s\n",
      "[CV] END ................................................C=1; total time=   2.6s\n",
      "[CV] END ................................................C=1; total time=   2.3s\n",
      "[CV] END ..............................................C=100; total time=   1.2s\n"
     ]
    },
    {
     "name": "stdout",
     "output_type": "stream",
     "text": [
      "[CV] END ................................C=0.1, gamma=0.0001; total time=   8.4s\n",
      "[CV] END ..................................C=0.1, gamma=0.01; total time=   4.6s\n",
      "[CV] END .....................................C=0.1, gamma=1; total time=   5.3s\n",
      "[CV] END ....................................C=0.1, gamma=10; total time=   6.1s\n",
      "[CV] END ...................................C=1, gamma=0.001; total time=   4.6s\n",
      "[CV] END .....................................C=1, gamma=0.1; total time=   2.5s\n",
      "[CV] END .......................................C=1, gamma=1; total time=   4.1s\n",
      "[CV] END ......................................C=1, gamma=10; total time=   7.1s\n",
      "[CV] END ...................................C=10, gamma=0.01; total time=   2.8s\n",
      "[CV] END ....................................C=10, gamma=0.1; total time=   1.8s\n",
      "[CV] END .....................................C=10, gamma=10; total time=   6.9s\n",
      "[CV] END .................................C=100, gamma=0.001; total time=   3.4s\n",
      "[CV] END ...................................C=100, gamma=0.1; total time=   1.9s\n",
      "[CV] END .....................................C=100, gamma=1; total time=   3.6s\n",
      "[CV] END ....................................C=100, gamma=10; total time=   4.5s\n",
      "[CV] END ................................................C=1; total time=   2.6s\n",
      "[CV] END ................................................C=1; total time=   2.4s\n",
      "[CV] END ..............................................C=100; total time=   1.2s\n",
      "[CV] END ................................C=0.1, gamma=0.0001; total time=   8.4s\n",
      "[CV] END ..................................C=0.1, gamma=0.01; total time=   4.6s\n",
      "[CV] END .....................................C=0.1, gamma=1; total time=   5.3s\n",
      "[CV] END ....................................C=0.1, gamma=10; total time=   6.1s\n",
      "[CV] END ...................................C=1, gamma=0.001; total time=   4.7s\n",
      "[CV] END .....................................C=1, gamma=0.1; total time=   2.5s\n",
      "[CV] END .......................................C=1, gamma=1; total time=   4.1s\n",
      "[CV] END .................................C=10, gamma=0.0001; total time=   4.0s\n",
      "[CV] END ..................................C=10, gamma=0.001; total time=   3.2s\n",
      "[CV] END ...................................C=10, gamma=0.01; total time=   2.8s\n",
      "[CV] END ......................................C=10, gamma=1; total time=   3.4s\n",
      "[CV] END .....................................C=10, gamma=10; total time=   7.0s\n",
      "[CV] END ..................................C=100, gamma=0.01; total time=   3.0s\n",
      "[CV] END ...................................C=100, gamma=0.1; total time=   1.8s\n",
      "[CV] END ....................................C=100, gamma=10; total time=   5.4s\n",
      "[CV] END ..............................................C=0.1; total time=   3.4s\n",
      "[CV] END ...............................................C=10; total time=   1.9s\n",
      "[CV] END ..............................................C=100; total time=   1.1s\n",
      "[CV] END .................................C=0.1, gamma=0.001; total time=   7.4s\n",
      "[CV] END .................................C=0.1, gamma=0.001; total time=   5.5s\n",
      "[CV] END .....................................C=0.1, gamma=1; total time=   5.3s\n",
      "[CV] END ..................................C=1, gamma=0.0001; total time=   5.4s\n",
      "[CV] END ...................................C=1, gamma=0.001; total time=   4.6s\n",
      "[CV] END ....................................C=1, gamma=0.01; total time=   3.3s\n",
      "[CV] END .......................................C=1, gamma=1; total time=   4.1s\n",
      "[CV] END .................................C=10, gamma=0.0001; total time=   3.9s\n",
      "[CV] END ..................................C=10, gamma=0.001; total time=   3.2s\n",
      "[CV] END ...................................C=10, gamma=0.01; total time=   2.8s\n",
      "[CV] END ......................................C=10, gamma=1; total time=   3.5s\n",
      "[CV] END ................................C=100, gamma=0.0001; total time=   3.4s\n",
      "[CV] END ................................C=100, gamma=0.0001; total time=   3.3s\n",
      "[CV] END ..................................C=100, gamma=0.01; total time=   3.0s\n",
      "[CV] END ...................................C=100, gamma=0.1; total time=   1.8s\n",
      "[CV] END ....................................C=100, gamma=10; total time=   5.4s\n",
      "[CV] END ..............................................C=0.1; total time=   3.4s\n",
      "[CV] END ...............................................C=10; total time=   2.0s\n",
      "[CV] END ..............................................C=100; total time=   1.1s\n"
     ]
    }
   ],
   "source": [
    "# Take F1 macro score as performance metric\n",
    "f1_macro_average = f1_score(y_test, predictions, average='macro')\n",
    "\n",
    "print(f'F1 score --> {round(f1_macro_average*100, 2)}%')"
   ]
  },
  {
   "cell_type": "code",
   "execution_count": null,
   "metadata": {},
   "outputs": [],
   "source": []
  }
 ],
 "metadata": {
  "kernelspec": {
   "display_name": "stroke-prediction",
   "language": "python",
   "name": "stroke-prediction"
  },
  "language_info": {
   "codemirror_mode": {
    "name": "ipython",
    "version": 3
   },
   "file_extension": ".py",
   "mimetype": "text/x-python",
   "name": "python",
   "nbconvert_exporter": "python",
   "pygments_lexer": "ipython3",
   "version": "3.9.6"
  }
 },
 "nbformat": 4,
 "nbformat_minor": 4
}
