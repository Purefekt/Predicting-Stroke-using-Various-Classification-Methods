{
 "cells": [
  {
   "cell_type": "markdown",
   "metadata": {},
   "source": [
    "# Support Vector Machine"
   ]
  },
  {
   "cell_type": "code",
   "execution_count": 1,
   "metadata": {},
   "outputs": [],
   "source": [
    "# import all libraries\n",
    "import pandas as pd\n",
    "import matplotlib.pyplot as plt\n",
    "import seaborn as sns\n",
    "from sklearn.svm import SVC\n",
    "from sklearn.metrics import confusion_matrix\n",
    "from sklearn.metrics import classification_report\n",
    "from sklearn.metrics import f1_score\n",
    "from sklearn.model_selection import GridSearchCV\n",
    "import time\n",
    "import json"
   ]
  },
  {
   "cell_type": "code",
   "execution_count": 2,
   "metadata": {},
   "outputs": [],
   "source": [
    "# Load the Training and Testing Data\n",
    "x_train = pd.read_pickle('data/x_train.pkl')\n",
    "y_train = pd.read_pickle('data/y_train.pkl')\n",
    "\n",
    "x_test = pd.read_pickle('data/x_test.pkl')\n",
    "y_test = pd.read_pickle('data/y_test.pkl')"
   ]
  },
  {
   "cell_type": "markdown",
   "metadata": {},
   "source": [
    "## Implementing Basic Support Vector Machine"
   ]
  },
  {
   "cell_type": "code",
   "execution_count": 3,
   "metadata": {},
   "outputs": [],
   "source": [
    "# model\n",
    "svm = SVC(random_state=1,\n",
    "          kernel='rbf',\n",
    "          C=1,\n",
    "          gamma=0.001)\n",
    "\n",
    "# fit the model\n",
    "svm.fit(x_train, y_train)\n",
    "\n",
    "# prediction\n",
    "predictions = svm.predict(x_test)"
   ]
  },
  {
   "cell_type": "code",
   "execution_count": 4,
   "metadata": {},
   "outputs": [
    {
     "data": {
      "image/png": "[encoded data removed]",
      "text/plain": [
       "<Figure size 432x288 with 2 Axes>"
      ]
     },
     "metadata": {
      "needs_background": "light"
     },
     "output_type": "display_data"
    }
   ],
   "source": [
    "cm = confusion_matrix(y_test, predictions)\n",
    "plt.figure()\n",
    "sns.heatmap(cm, annot=True, fmt=\".3f\", linewidths=.5, square = True, cmap = 'Blues_r');\n",
    "plt.ylabel('Actual label');\n",
    "plt.xlabel('Predicted label');\n",
    "plt.title('Support Vector Machine Confusion Matrix', size = 15);\n",
    "plt.show()"
   ]
  },
  {
   "cell_type": "code",
   "execution_count": 5,
   "metadata": {},
   "outputs": [
    {
     "name": "stdout",
     "output_type": "stream",
     "text": [
      "F1 score for class Stroke = 1 --> 82.657%\n",
      "F1 score for class Stroke = 0 --> 80.872%\n"
     ]
    }
   ],
   "source": [
    "# Performance\n",
    "f1_score_stroke_vanilla = f1_score(y_true=y_test, y_pred=predictions, pos_label=1)\n",
    "f1_score_no_stroke_vanilla = f1_score(y_true=y_test, y_pred=predictions, pos_label=0)\n",
    "\n",
    "f1_score_stroke_vanilla = round(f1_score_stroke_vanilla*100, 3)\n",
    "f1_score_no_stroke_vanilla = round(f1_score_no_stroke_vanilla*100, 3)\n",
    "\n",
    "\n",
    "\n",
    "print(f'F1 score for class Stroke = 1 --> {f1_score_stroke_vanilla}%')\n",
    "print(f'F1 score for class Stroke = 0 --> {f1_score_no_stroke_vanilla}%')"
   ]
  },
  {
   "cell_type": "code",
   "execution_count": 6,
   "metadata": {},
   "outputs": [
    {
     "name": "stdout",
     "output_type": "stream",
     "text": [
      "              precision    recall  f1-score   support\n",
      "\n",
      "           0       0.87      0.76      0.81       953\n",
      "           1       0.78      0.88      0.83       927\n",
      "\n",
      "    accuracy                           0.82      1880\n",
      "   macro avg       0.82      0.82      0.82      1880\n",
      "weighted avg       0.82      0.82      0.82      1880\n",
      "\n"
     ]
    }
   ],
   "source": [
    "print(classification_report(y_test, predictions))"
   ]
  },
  {
   "cell_type": "markdown",
   "metadata": {},
   "source": [
    "## Hyperparameter Tuning for Better Results\n",
    "\n",
    "We will tune for:\n",
    "- C - Regularization parameter- 0.0001 to 100 with 10x increments\n",
    "- gamma - Kernel coefficient - 0.0001 to 100 with 10x increments"
   ]
  },
  {
   "cell_type": "code",
   "execution_count": 7,
   "metadata": {},
   "outputs": [
    {
     "name": "stdout",
     "output_type": "stream",
     "text": [
      "{'C': [0.0001, 0.001, 0.01, 0.1, 1, 10, 100], 'gamma': [0.0001, 0.001, 0.01, 0.1, 1, 10, 100]}\n"
     ]
    }
   ],
   "source": [
    "# Create a list of Regularization parameter values\n",
    "C = [0.0001, 0.001, 0.01, 0.1, 1, 10, 100]\n",
    "# create a list of gamma values\n",
    "gamma = [0.0001, 0.001, 0.01, 0.1, 1, 10, 100]\n",
    "\n",
    "#Convert to dictionary\n",
    "hyperparameters = dict(C=C, gamma=gamma)\n",
    "\n",
    "print(hyperparameters)"
   ]
  },
  {
   "cell_type": "code",
   "execution_count": 8,
   "metadata": {},
   "outputs": [],
   "source": [
    "# Implement GridSearch to check and get the best hyperparameters\n",
    "\n",
    "# estimator = ML model to be tested\n",
    "# param_grid = dictionary of hyperparameters to be tested\n",
    "# scoring = the scoring metric, for this imbalanced classification task, i chose f1\n",
    "# n_jobs = number of cores to be used in parallel, -1 means use all\n",
    "# cv = number of cross validation set elements\n",
    "best_model = GridSearchCV(estimator=SVC(random_state=1,kernel='rbf'),\n",
    "                          param_grid=hyperparameters, \n",
    "                          scoring = 'f1',\n",
    "                          n_jobs=-1,\n",
    "                          cv=10)\n",
    "\n",
    "# Fit the model\n",
    "best_model = best_model.fit(x_train,y_train)"
   ]
  },
  {
   "cell_type": "code",
   "execution_count": 9,
   "metadata": {},
   "outputs": [
    {
     "name": "stdout",
     "output_type": "stream",
     "text": [
      "Best C: 100\n",
      "Best gamma: 0.01\n"
     ]
    }
   ],
   "source": [
    "C = best_model.best_estimator_.get_params()['C']\n",
    "gamma = best_model.best_estimator_.get_params()['gamma']\n",
    "\n",
    "print(f'Best C: {C}')\n",
    "print(f'Best gamma: {gamma}')"
   ]
  },
  {
   "cell_type": "markdown",
   "metadata": {},
   "source": [
    "## Use New Hyperparameters"
   ]
  },
  {
   "cell_type": "code",
   "execution_count": 10,
   "metadata": {},
   "outputs": [
    {
     "name": "stdout",
     "output_type": "stream",
     "text": [
      "Time to Train --> 2334.035 ms\n"
     ]
    }
   ],
   "source": [
    "# start timer\n",
    "start_time = time.time()\n",
    "\n",
    "# model\n",
    "svm = SVC(random_state=1,\n",
    "          kernel='rbf',\n",
    "          C=C,\n",
    "          gamma=gamma)\n",
    "\n",
    "# fit the model\n",
    "svm.fit(x_train, y_train)\n",
    "\n",
    "# Time to train\n",
    "time_to_train = round((time.time() - start_time)*1000, 3)\n",
    "print(f'Time to Train --> {time_to_train} ms')"
   ]
  },
  {
   "cell_type": "code",
   "execution_count": 11,
   "metadata": {},
   "outputs": [
    {
     "name": "stdout",
     "output_type": "stream",
     "text": [
      "Inference time --> 459.87 ms\n"
     ]
    }
   ],
   "source": [
    "# start timer\n",
    "start_time = time.time()\n",
    "\n",
    "# prediction\n",
    "predictions = svm.predict(x_test)\n",
    "\n",
    "# Inference time\n",
    "inference_time = round((time.time() - start_time)*1000, 3)\n",
    "print(f'Inference time --> {inference_time} ms')"
   ]
  },
  {
   "cell_type": "code",
   "execution_count": 12,
   "metadata": {},
   "outputs": [
    {
     "data": {
      "image/png": "[encoded data removed]",
      "text/plain": [
       "<Figure size 432x288 with 2 Axes>"
      ]
     },
     "metadata": {
      "needs_background": "light"
     },
     "output_type": "display_data"
    }
   ],
   "source": [
    "cm = confusion_matrix(y_test, predictions)\n",
    "plt.figure()\n",
    "sns.heatmap(cm, annot=True, fmt=\".3f\", linewidths=.5, square = True, cmap = 'Greens_r');\n",
    "plt.ylabel('Actual label');\n",
    "plt.xlabel('Predicted label');\n",
    "plt.title('Support Vector Machine Confusion Matrix after Hyperparameter Tuning', size = 15);\n",
    "plt.show()"
   ]
  },
  {
   "cell_type": "code",
   "execution_count": 13,
   "metadata": {},
   "outputs": [
    {
     "name": "stdout",
     "output_type": "stream",
     "text": [
      "F1 score for class Stroke = 1 --> 96.355%\n",
      "F1 score for class Stroke = 0 --> 96.304%\n"
     ]
    }
   ],
   "source": [
    "# Performance after hyperparameter tuning\n",
    "f1_score_stroke_hp_tuning = f1_score(y_true=y_test, y_pred=predictions, pos_label=1)\n",
    "f1_score_no_stroke_hp_tuning = f1_score(y_true=y_test, y_pred=predictions, pos_label=0)\n",
    "\n",
    "f1_score_stroke_hp_tuning = round(f1_score_stroke_hp_tuning*100, 3)\n",
    "f1_score_no_stroke_hp_tuning = round(f1_score_no_stroke_hp_tuning*100, 3)\n",
    "\n",
    "print(f'F1 score for class Stroke = 1 --> {f1_score_stroke_hp_tuning}%')\n",
    "print(f'F1 score for class Stroke = 0 --> {f1_score_no_stroke_hp_tuning}%')"
   ]
  },
  {
   "cell_type": "code",
   "execution_count": 14,
   "metadata": {},
   "outputs": [
    {
     "name": "stdout",
     "output_type": "stream",
     "text": [
      "              precision    recall  f1-score   support\n",
      "\n",
      "           0       0.98      0.94      0.96       953\n",
      "           1       0.94      0.98      0.96       927\n",
      "\n",
      "    accuracy                           0.96      1880\n",
      "   macro avg       0.96      0.96      0.96      1880\n",
      "weighted avg       0.96      0.96      0.96      1880\n",
      "\n"
     ]
    }
   ],
   "source": [
    "print(classification_report(y_test, predictions))"
   ]
  },
  {
   "cell_type": "code",
   "execution_count": 15,
   "metadata": {},
   "outputs": [
    {
     "name": "stdout",
     "output_type": "stream",
     "text": [
      "Percentage increase for F1 score with stroke --> 16.572%\n",
      "Percentage increase for F1 score without stroke --> 19.082%\n"
     ]
    }
   ],
   "source": [
    "# percentage improvement due to hyperparameter tuning\n",
    "score_increase_stroke = round(((f1_score_stroke_hp_tuning - f1_score_stroke_vanilla)/f1_score_stroke_vanilla)*100, 3)\n",
    "score_increase_no_stroke = round(((f1_score_no_stroke_hp_tuning - f1_score_no_stroke_vanilla)/f1_score_no_stroke_vanilla)*100, 3)\n",
    "\n",
    "print(f'Percentage increase for F1 score with stroke --> {score_increase_stroke}%')\n",
    "print(f'Percentage increase for F1 score without stroke --> {score_increase_no_stroke}%')"
   ]
  },
  {
   "cell_type": "code",
   "execution_count": 16,
   "metadata": {},
   "outputs": [
    {
     "name": "stdout",
     "output_type": "stream",
     "text": [
      "82.657\n",
      "80.872\n",
      "---------------------------------\n",
      "96.355\n",
      "96.304\n",
      "---------------------------------\n",
      "16.572\n",
      "19.082\n",
      "---------------------------------\n",
      "2334.035\n",
      "459.87\n"
     ]
    }
   ],
   "source": [
    "print(f1_score_stroke_vanilla)\n",
    "print(f1_score_no_stroke_vanilla)\n",
    "print('---------------------------------')\n",
    "print(f1_score_stroke_hp_tuning)\n",
    "print(f1_score_no_stroke_hp_tuning)\n",
    "print('---------------------------------')\n",
    "print(score_increase_stroke)\n",
    "print(score_increase_no_stroke)\n",
    "print('---------------------------------')\n",
    "print(time_to_train)\n",
    "print(inference_time)"
   ]
  },
  {
   "cell_type": "markdown",
   "metadata": {},
   "source": [
    "## Saving numbers to JSON\n",
    "\n",
    "Since this isnt the first model, read the previously made JSON file and then add to it"
   ]
  },
  {
   "cell_type": "code",
   "execution_count": 17,
   "metadata": {},
   "outputs": [],
   "source": [
    "# read previously created JSON\n",
    "with open('data.json') as json_file:\n",
    "    json_dict = json.load(json_file)\n",
    "\n",
    "# add to it\n",
    "json_dict['svm'] = {\n",
    "    \"scores_vanilla\":{\"with_stroke\":f1_score_stroke_vanilla, \"without_stroke\":f1_score_no_stroke_vanilla},\n",
    "    \"scores_after_hp_tuning\":{\"with_stroke\":f1_score_stroke_hp_tuning, \"without_stroke\":f1_score_no_stroke_hp_tuning},\n",
    "    \"percentage_increase\":{\"with_stroke\":score_increase_stroke, \"without_stroke\":score_increase_no_stroke},\n",
    "    \"time\":{\"time_to_train_final_model\":time_to_train, \"inference_time_on_final_model\":inference_time}}"
   ]
  },
  {
   "cell_type": "code",
   "execution_count": 18,
   "metadata": {},
   "outputs": [],
   "source": [
    "with open('data.json', 'w') as fp:\n",
    "    json.dump(json_dict, fp,  indent=4)"
   ]
  }
 ],
 "metadata": {
  "kernelspec": {
   "display_name": "stroke-prediction",
   "language": "python",
   "name": "stroke-prediction"
  },
  "language_info": {
   "codemirror_mode": {
    "name": "ipython",
    "version": 3
   },
   "file_extension": ".py",
   "mimetype": "text/x-python",
   "name": "python",
   "nbconvert_exporter": "python",
   "pygments_lexer": "ipython3",
   "version": "3.9.6"
  }
 },
 "nbformat": 4,
 "nbformat_minor": 4
}
